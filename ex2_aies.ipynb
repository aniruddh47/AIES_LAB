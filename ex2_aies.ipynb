{
  "nbformat": 4,
  "nbformat_minor": 0,
  "metadata": {
    "colab": {
      "provenance": [],
      "include_colab_link": true
    },
    "kernelspec": {
      "name": "python3",
      "display_name": "Python 3"
    },
    "language_info": {
      "name": "python"
    }
  },
  "cells": [
    {
      "cell_type": "markdown",
      "metadata": {
        "id": "view-in-github",
        "colab_type": "text"
      },
      "source": [
        "<a href=\"https://colab.research.google.com/github/aniruddh47/AIES_LAB/blob/main/ex2_aies.ipynb\" target=\"_parent\"><img src=\"https://colab.research.google.com/assets/colab-badge.svg\" alt=\"Open In Colab\"/></a>"
      ]
    },
    {
      "cell_type": "code",
      "source": [
        "!pip install fairlearn\n",
        "import pandas as pd\n",
        "import numpy as np\n",
        "from sklearn.model_selection import train_test_split\n",
        "from sklearn.linear_model import LogisticRegression\n",
        "from sklearn.preprocessing import LabelEncoder\n",
        "from fairlearn.metrics import MetricFrame, selection_rate, true_positive_rate, false_positive_rate, false_negative_rate\n",
        "\n",
        "# === Step 1: Load the dataset from local path ===\n",
        "\n",
        "# Replace this path with the correct one on your machine\n",
        "file_path = '/content/drug_consumption.data'  # e.g., 'path/to/your/file/drug_consumption.data'\n",
        "\n",
        "# Column names from UCI documentation\n",
        "columns = [\n",
        "    \"ID\", \"Age\", \"Gender\", \"Education\", \"Country\", \"Ethnicity\", \"Nscore\", \"Escore\", \"Oscore\", \"Ascore\", \"Cscore\",\n",
        "    \"Impulsive\", \"SS\", \"Alcohol\", \"Amphet\", \"Amyl\", \"Benzos\", \"Caff\", \"Cannabis\", \"Choc\", \"Coke\", \"Crack\", \"Ecstasy\",\n",
        "    \"Heroin\", \"Ketamine\", \"Legalh\", \"LSD\", \"Meth\", \"Mushrooms\", \"Nicotine\", \"Semer\", \"VSA\"\n",
        "]\n",
        "\n",
        "df = pd.read_csv(file_path, header=None, names=columns)\n",
        "\n",
        "# === Step 2: Preprocessing ===\n",
        "\n",
        "# Convert categorical drug usage to binary: user (1) vs non-user (0)\n",
        "def binary_drug_use(col):\n",
        "    return df[col].apply(lambda x: 1 if x in ['CL1', 'CL2', 'CL3', 'CL4', 'CL5', 'CL6'] else 0)\n",
        "\n",
        "df['CocaineUser'] = binary_drug_use('Coke')  # target variable\n",
        "df['Gender'] = df['Gender'].map({-0.48246: 'Female', 0.48246: 'Male'})  # decode gender\n",
        "\n",
        "# Drop unneeded columns\n",
        "df = df.drop(['ID', 'Coke'], axis=1)\n",
        "\n",
        "# Encode gender for sensitive attribute analysis\n",
        "le = LabelEncoder()\n",
        "df['Gender_encoded'] = le.fit_transform(df['Gender'])  # 0: Female, 1: Male\n",
        "\n",
        "# === Step 3: Define features, label, sensitive attribute ===\n",
        "\n",
        "features = ['Age', 'Education', 'Nscore', 'Escore', 'Oscore', 'Ascore', 'Cscore', 'Impulsive', 'SS']\n",
        "X = df[features]\n",
        "y = df['CocaineUser']\n",
        "sensitive_attr = df['Gender']\n",
        "\n",
        "# === Step 4: Train/test split ===\n",
        "\n",
        "X_train, X_test, y_train, y_test, s_train, s_test = train_test_split(\n",
        "    X, y, sensitive_attr, test_size=0.3, random_state=42, stratify=y\n",
        ")\n",
        "\n",
        "# === Step 5: Model training ===\n",
        "\n",
        "clf = LogisticRegression(max_iter=1000)\n",
        "clf.fit(X_train, y_train)\n",
        "y_pred = clf.predict(X_test)\n",
        "\n",
        "# === Step 6: Fairness metrics ===\n",
        "\n",
        "metric_frame = MetricFrame(\n",
        "    metrics={\n",
        "        'TPR': true_positive_rate,\n",
        "        'FPR': false_positive_rate,\n",
        "        'FNR': false_negative_rate,\n",
        "        'Selection Rate': selection_rate\n",
        "    },\n",
        "    y_true=y_test,\n",
        "    y_pred=y_pred,\n",
        "    sensitive_features=s_test\n",
        ")\n",
        "\n",
        "print(\"Fairness Metrics by Gender Group:\\n\", metric_frame.by_group)\n",
        "\n",
        "# Optional: fairness gap\n",
        "tpr_gap = abs(metric_frame.by_group['TPR']['Male'] - metric_frame.by_group['TPR']['Female'])\n",
        "print(f\"\\nTPR Gap (Male vs Female): {tpr_gap:.3f}\")\n"
      ],
      "metadata": {
        "colab": {
          "base_uri": "https://localhost:8080/"
        },
        "id": "HpG2rEWdb-AP",
        "outputId": "9d472026-2eb9-41a7-ed04-92076f33bb89"
      },
      "execution_count": 2,
      "outputs": [
        {
          "output_type": "stream",
          "name": "stdout",
          "text": [
            "Collecting fairlearn\n",
            "  Downloading fairlearn-0.12.0-py3-none-any.whl.metadata (7.0 kB)\n",
            "Requirement already satisfied: numpy>=1.24.4 in /usr/local/lib/python3.11/dist-packages (from fairlearn) (2.0.2)\n",
            "Requirement already satisfied: pandas>=2.0.3 in /usr/local/lib/python3.11/dist-packages (from fairlearn) (2.2.2)\n",
            "Requirement already satisfied: scikit-learn>=1.2.1 in /usr/local/lib/python3.11/dist-packages (from fairlearn) (1.6.1)\n",
            "Requirement already satisfied: scipy>=1.9.3 in /usr/local/lib/python3.11/dist-packages (from fairlearn) (1.16.0)\n",
            "Requirement already satisfied: python-dateutil>=2.8.2 in /usr/local/lib/python3.11/dist-packages (from pandas>=2.0.3->fairlearn) (2.9.0.post0)\n",
            "Requirement already satisfied: pytz>=2020.1 in /usr/local/lib/python3.11/dist-packages (from pandas>=2.0.3->fairlearn) (2025.2)\n",
            "Requirement already satisfied: tzdata>=2022.7 in /usr/local/lib/python3.11/dist-packages (from pandas>=2.0.3->fairlearn) (2025.2)\n",
            "Requirement already satisfied: joblib>=1.2.0 in /usr/local/lib/python3.11/dist-packages (from scikit-learn>=1.2.1->fairlearn) (1.5.1)\n",
            "Requirement already satisfied: threadpoolctl>=3.1.0 in /usr/local/lib/python3.11/dist-packages (from scikit-learn>=1.2.1->fairlearn) (3.6.0)\n",
            "Requirement already satisfied: six>=1.5 in /usr/local/lib/python3.11/dist-packages (from python-dateutil>=2.8.2->pandas>=2.0.3->fairlearn) (1.17.0)\n",
            "Downloading fairlearn-0.12.0-py3-none-any.whl (240 kB)\n",
            "\u001b[2K   \u001b[90m━━━━━━━━━━━━━━━━━━━━━━━━━━━━━━━━━━━━━━━━\u001b[0m \u001b[32m240.0/240.0 kB\u001b[0m \u001b[31m4.0 MB/s\u001b[0m eta \u001b[36m0:00:00\u001b[0m\n",
            "\u001b[?25hInstalling collected packages: fairlearn\n",
            "Successfully installed fairlearn-0.12.0\n",
            "Fairness Metrics by Gender Group:\n",
            "              TPR       FPR       FNR  Selection Rate\n",
            "Gender                                              \n",
            "Female  0.648276  0.446043  0.351724        0.549296\n",
            "Male    0.467890  0.213873  0.532110        0.312057\n",
            "\n",
            "TPR Gap (Male vs Female): 0.180\n"
          ]
        }
      ]
    }
  ]
}